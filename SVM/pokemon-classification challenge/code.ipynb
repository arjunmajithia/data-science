{
 "cells": [
  {
   "cell_type": "code",
   "execution_count": 1,
   "metadata": {},
   "outputs": [],
   "source": [
    "import pandas as pd\n",
    "import numpy as np"
   ]
  },
  {
   "cell_type": "code",
   "execution_count": 32,
   "metadata": {},
   "outputs": [],
   "source": [
    "labels = pd.read_csv('train.csv')"
   ]
  },
  {
   "cell_type": "code",
   "execution_count": 33,
   "metadata": {},
   "outputs": [
    {
     "data": {
      "text/html": [
       "<div>\n",
       "<style scoped>\n",
       "    .dataframe tbody tr th:only-of-type {\n",
       "        vertical-align: middle;\n",
       "    }\n",
       "\n",
       "    .dataframe tbody tr th {\n",
       "        vertical-align: top;\n",
       "    }\n",
       "\n",
       "    .dataframe thead th {\n",
       "        text-align: right;\n",
       "    }\n",
       "</style>\n",
       "<table border=\"1\" class=\"dataframe\">\n",
       "  <thead>\n",
       "    <tr style=\"text-align: right;\">\n",
       "      <th></th>\n",
       "      <th>ImageId</th>\n",
       "      <th>NameOfPokemon</th>\n",
       "    </tr>\n",
       "  </thead>\n",
       "  <tbody>\n",
       "    <tr>\n",
       "      <th>0</th>\n",
       "      <td>296.jpg</td>\n",
       "      <td>Pikachu</td>\n",
       "    </tr>\n",
       "    <tr>\n",
       "      <th>1</th>\n",
       "      <td>297.jpg</td>\n",
       "      <td>Pikachu</td>\n",
       "    </tr>\n",
       "    <tr>\n",
       "      <th>2</th>\n",
       "      <td>298.jpg</td>\n",
       "      <td>Pikachu</td>\n",
       "    </tr>\n",
       "    <tr>\n",
       "      <th>3</th>\n",
       "      <td>299.jpg</td>\n",
       "      <td>Pikachu</td>\n",
       "    </tr>\n",
       "    <tr>\n",
       "      <th>4</th>\n",
       "      <td>300.jpg</td>\n",
       "      <td>Pikachu</td>\n",
       "    </tr>\n",
       "  </tbody>\n",
       "</table>\n",
       "</div>"
      ],
      "text/plain": [
       "   ImageId NameOfPokemon\n",
       "0  296.jpg       Pikachu\n",
       "1  297.jpg       Pikachu\n",
       "2  298.jpg       Pikachu\n",
       "3  299.jpg       Pikachu\n",
       "4  300.jpg       Pikachu"
      ]
     },
     "execution_count": 33,
     "metadata": {},
     "output_type": "execute_result"
    }
   ],
   "source": [
    "labels.head()"
   ]
  },
  {
   "cell_type": "code",
   "execution_count": 34,
   "metadata": {},
   "outputs": [],
   "source": [
    "labels = labels.values"
   ]
  },
  {
   "cell_type": "code",
   "execution_count": 35,
   "metadata": {},
   "outputs": [
    {
     "name": "stdout",
     "output_type": "stream",
     "text": [
      "(304, 2)\n"
     ]
    }
   ],
   "source": [
    "print(labels.shape)"
   ]
  },
  {
   "cell_type": "code",
   "execution_count": 43,
   "metadata": {},
   "outputs": [
    {
     "name": "stdout",
     "output_type": "stream",
     "text": [
      "296.jpg\n",
      "<class 'str'>\n"
     ]
    }
   ],
   "source": [
    "l = labels[0, 0]\n",
    "print(l)\n",
    "print(type(l))"
   ]
  },
  {
   "cell_type": "code",
   "execution_count": 36,
   "metadata": {},
   "outputs": [],
   "source": [
    "my_dict = {\n",
    "    'Pikachu': 0,\n",
    "    'Bulbasaur': 1,\n",
    "    'Charmander': 2\n",
    "}"
   ]
  },
  {
   "cell_type": "code",
   "execution_count": 37,
   "metadata": {},
   "outputs": [],
   "source": [
    "import matplotlib.pyplot as plt\n",
    "from pathlib import Path"
   ]
  },
  {
   "cell_type": "code",
   "execution_count": 38,
   "metadata": {},
   "outputs": [],
   "source": [
    "import cv2\n",
    "import os"
   ]
  },
  {
   "cell_type": "code",
   "execution_count": 218,
   "metadata": {},
   "outputs": [],
   "source": [
    "images = []\n",
    "label_img = []\n",
    "dataset_path = \"./Images/\"\n",
    "c = 0\n",
    "\n",
    "for i in range(labels.shape[0]):\n",
    "    img_path = labels[i, 0]\n",
    "    label = labels[i, 1]\n",
    "    img = cv2.imread(dataset_path + img_path)\n",
    "    img = cv2.cvtColor(img, cv2.COLOR_BGR2RGB)\n",
    "    img = cv2.resize(img, (32, 32))\n",
    "    images.append(img)\n",
    "    label_img.append(my_dict[label])"
   ]
  },
  {
   "cell_type": "code",
   "execution_count": 219,
   "metadata": {},
   "outputs": [],
   "source": [
    "# TRAINING DATA (NORMALIZED)\n",
    "images = np.array(images, dtype = 'float32') / 255.0\n",
    "label_img = np.array(label_img)"
   ]
  },
  {
   "cell_type": "code",
   "execution_count": 220,
   "metadata": {},
   "outputs": [
    {
     "name": "stdout",
     "output_type": "stream",
     "text": [
      "[[[0.57254905 0.7490196  0.9137255 ]\n",
      "  [0.57254905 0.7490196  0.9098039 ]\n",
      "  [0.5764706  0.7529412  0.9137255 ]\n",
      "  ...\n",
      "  [0.5921569  0.7647059  0.91764706]\n",
      "  [0.58431375 0.75686276 0.9098039 ]\n",
      "  [0.5764706  0.7529412  0.9137255 ]]\n",
      "\n",
      " [[0.57254905 0.7490196  0.9098039 ]\n",
      "  [0.5803922  0.75686276 0.91764706]\n",
      "  [0.58431375 0.7529412  0.9137255 ]\n",
      "  ...\n",
      "  [0.59607846 0.76862746 0.9137255 ]\n",
      "  [0.5921569  0.7647059  0.91764706]\n",
      "  [0.58431375 0.75686276 0.9098039 ]]\n",
      "\n",
      " [[0.5764706  0.7529412  0.9137255 ]\n",
      "  [0.58431375 0.7529412  0.91764706]\n",
      "  [0.5882353  0.75686276 0.9098039 ]\n",
      "  ...\n",
      "  [0.6039216  0.76862746 0.91764706]\n",
      "  [0.6        0.76862746 0.9137255 ]\n",
      "  [0.5921569  0.7647059  0.91764706]]\n",
      "\n",
      " ...\n",
      "\n",
      " [[0.32156864 0.54901963 0.8352941 ]\n",
      "  [0.30980393 0.54509807 0.827451  ]\n",
      "  [0.30980393 0.5372549  0.827451  ]\n",
      "  ...\n",
      "  [0.2901961  0.5254902  0.8117647 ]\n",
      "  [0.2901961  0.5254902  0.8117647 ]\n",
      "  [0.2901961  0.5254902  0.8117647 ]]\n",
      "\n",
      " [[0.3137255  0.54901963 0.83137256]\n",
      "  [0.30980393 0.54509807 0.827451  ]\n",
      "  [0.30588236 0.53333336 0.8235294 ]\n",
      "  ...\n",
      "  [0.29803923 0.53333336 0.81960785]\n",
      "  [0.29803923 0.53333336 0.81960785]\n",
      "  [0.3019608  0.5372549  0.8235294 ]]\n",
      "\n",
      " [[0.32156864 0.5529412  0.827451  ]\n",
      "  [0.3137255  0.54901963 0.83137256]\n",
      "  [0.30980393 0.54509807 0.827451  ]\n",
      "  ...\n",
      "  [0.30588236 0.53333336 0.8235294 ]\n",
      "  [0.30980393 0.5372549  0.827451  ]\n",
      "  [0.30980393 0.5372549  0.827451  ]]]\n"
     ]
    }
   ],
   "source": [
    "print(images[0])"
   ]
  },
  {
   "cell_type": "code",
   "execution_count": 221,
   "metadata": {},
   "outputs": [
    {
     "name": "stdout",
     "output_type": "stream",
     "text": [
      "(304, 64, 64, 3)\n"
     ]
    }
   ],
   "source": [
    "print(images.shape)"
   ]
  },
  {
   "cell_type": "code",
   "execution_count": 222,
   "metadata": {},
   "outputs": [
    {
     "name": "stdout",
     "output_type": "stream",
     "text": [
      "(304,)\n"
     ]
    }
   ],
   "source": [
    "print(label_img.shape)"
   ]
  },
  {
   "cell_type": "code",
   "execution_count": 223,
   "metadata": {},
   "outputs": [],
   "source": [
    "import random\n",
    "\n",
    "combined = list(zip(images,label_img))\n",
    "random.shuffle(combined)\n",
    "\n",
    "#Unzip\n",
    "images[:],label_img[:] = zip(*combined)"
   ]
  },
  {
   "cell_type": "code",
   "execution_count": 224,
   "metadata": {},
   "outputs": [
    {
     "data": {
      "image/png": "[encoded data removed]",
      "text/plain": [
       "<Figure size 432x288 with 1 Axes>"
      ]
     },
     "metadata": {
      "needs_background": "light"
     },
     "output_type": "display_data"
    },
    {
     "name": "stdout",
     "output_type": "stream",
     "text": [
      "0\n"
     ]
    },
    {
     "data": {
      "image/png": "[encoded data removed]",
      "text/plain": [
       "<Figure size 432x288 with 1 Axes>"
      ]
     },
     "metadata": {
      "needs_background": "light"
     },
     "output_type": "display_data"
    },
    {
     "name": "stdout",
     "output_type": "stream",
     "text": [
      "1\n"
     ]
    },
    {
     "data": {
      "image/png": "[encoded data removed]",
      "text/plain": [
       "<Figure size 432x288 with 1 Axes>"
      ]
     },
     "metadata": {
      "needs_background": "light"
     },
     "output_type": "display_data"
    },
    {
     "name": "stdout",
     "output_type": "stream",
     "text": [
      "2\n"
     ]
    },
    {
     "data": {
      "image/png": "[encoded data removed]",
      "text/plain": [
       "<Figure size 432x288 with 1 Axes>"
      ]
     },
     "metadata": {
      "needs_background": "light"
     },
     "output_type": "display_data"
    },
    {
     "name": "stdout",
     "output_type": "stream",
     "text": [
      "0\n"
     ]
    }
   ],
   "source": [
    "for i in range(1, 5):\n",
    "    plt.imshow(images[i])\n",
    "    plt.show()\n",
    "    print(label_img[i])"
   ]
  },
  {
   "cell_type": "code",
   "execution_count": 225,
   "metadata": {},
   "outputs": [],
   "source": [
    "# SVM"
   ]
  },
  {
   "cell_type": "code",
   "execution_count": 226,
   "metadata": {},
   "outputs": [],
   "source": [
    "class SVM:\n",
    "    \n",
    "    def __init__(self, C = 1.0):\n",
    "        self.C = C\n",
    "        self.W = 0\n",
    "        self.B = 0\n",
    "        \n",
    "    def hinge_loss(self, W, b, X, Y):\n",
    "        loss = 0.0\n",
    "        \n",
    "        loss += 0.5 * np.dot(W, W.T)\n",
    "        \n",
    "        m = X.shape[0]\n",
    "        for i in range(m):\n",
    "            ti = Y[i] * (np.dot(W, X[i].T) + b)\n",
    "            loss += self.C * max(0, 1-ti)\n",
    "            \n",
    "        return loss[0][0]\n",
    "    \n",
    "    def train(self, X, Y, batch_size = 50, learning_rate = 0.001, maxItr = 300):\n",
    "        no_of_samples = X.shape[0]\n",
    "        no_of_features = X.shape[1]\n",
    "        \n",
    "        lr = learning_rate\n",
    "        c = self.C\n",
    "        \n",
    "        W = np.zeros((1, no_of_features))\n",
    "        bias = 0\n",
    "        \n",
    "        losses = []\n",
    "        for i in range(maxItr):\n",
    "            l = self.hinge_loss(W, bias, X, Y)\n",
    "            losses.append(l)\n",
    "            \n",
    "            ids = np.arange(no_of_samples)\n",
    "            np.random.shuffle(ids)\n",
    "            \n",
    "            for batch_start in range(0, no_of_samples, batch_size):\n",
    "                gradw = 0\n",
    "                gradb = 0\n",
    "                \n",
    "                for j in range(batch_start, batch_start + batch_size):\n",
    "                    if j < no_of_samples:\n",
    "                        i = ids[j]\n",
    "                        ti = Y[i] * (np.dot(W, X[i].T) + bias)\n",
    "                        if ti > 1:\n",
    "                            gradw += 0\n",
    "                            gradb += 0\n",
    "                        else:\n",
    "                            gradw += c * Y[i] * X[i]\n",
    "                            gradb += c * Y[i]\n",
    "                \n",
    "                W = W - lr*W + lr*gradw\n",
    "                bias = bias + lr*gradb\n",
    "        \n",
    "        self.W = W\n",
    "        self.B = bias\n",
    "        \n",
    "        return W, bias, losses"
   ]
  },
  {
   "cell_type": "code",
   "execution_count": 227,
   "metadata": {},
   "outputs": [
    {
     "name": "stdout",
     "output_type": "stream",
     "text": [
      "(304, 12288)\n",
      "(304,)\n"
     ]
    }
   ],
   "source": [
    "images = images.reshape(images.shape[0], -1)\n",
    "print(images.shape)\n",
    "print(label_img.shape)"
   ]
  },
  {
   "cell_type": "code",
   "execution_count": 228,
   "metadata": {},
   "outputs": [
    {
     "name": "stdout",
     "output_type": "stream",
     "text": [
      "3\n"
     ]
    }
   ],
   "source": [
    "CLASSES = len(np.unique(label_img))\n",
    "print(CLASSES)"
   ]
  },
  {
   "cell_type": "code",
   "execution_count": 229,
   "metadata": {},
   "outputs": [],
   "source": [
    "data = {}\n",
    "def classWiseData(X, Y):\n",
    "    \n",
    "    for i in range(CLASSES):\n",
    "        data[i] = []\n",
    "        \n",
    "    for i in range(X.shape[0]):\n",
    "        data[Y[i]].append(X[i])\n",
    "        \n",
    "    for k in data.keys():\n",
    "        data[k] = np.array(data[k])\n",
    "        \n",
    "    return data"
   ]
  },
  {
   "cell_type": "code",
   "execution_count": 230,
   "metadata": {},
   "outputs": [],
   "source": [
    "data = classWiseData(images, label_img)"
   ]
  },
  {
   "cell_type": "code",
   "execution_count": 231,
   "metadata": {},
   "outputs": [],
   "source": [
    "def getDataPairForSVM(d1, d2):\n",
    "    l1 = d1.shape[0]\n",
    "    l2 = d2.shape[0]\n",
    "    \n",
    "    samples = l1 + l2\n",
    "    features = d1.shape[1]\n",
    "    \n",
    "    data_pair = np.zeros((samples, features))\n",
    "    data_pair_labels = np.zeros((samples, ))\n",
    "    \n",
    "    data_pair[:l1, :] = d1\n",
    "    data_pair[l1:, :] = d2\n",
    "    \n",
    "    data_pair_labels[:l1] = -1\n",
    "    data_pair_labels[l1:] = +1\n",
    "    \n",
    "    return data_pair, data_pair_labels"
   ]
  },
  {
   "cell_type": "code",
   "execution_count": 232,
   "metadata": {},
   "outputs": [],
   "source": [
    "# TRAINING"
   ]
  },
  {
   "cell_type": "code",
   "execution_count": 233,
   "metadata": {},
   "outputs": [
    {
     "data": {
      "image/png": "[encoded data removed]",
      "text/plain": [
       "<Figure size 432x288 with 1 Axes>"
      ]
     },
     "metadata": {
      "needs_background": "light"
     },
     "output_type": "display_data"
    }
   ],
   "source": [
    "mySvm = SVM()\n",
    "Xp, Yp = getDataPairForSVM(data[0], data[2])\n",
    "W, b, loss = mySvm.train(Xp, Yp, learning_rate = 0.00001, maxItr = 1000)\n",
    "plt.plot(loss)\n",
    "plt.show()"
   ]
  },
  {
   "cell_type": "code",
   "execution_count": 234,
   "metadata": {},
   "outputs": [
    {
     "name": "stdout",
     "output_type": "stream",
     "text": [
      "203.0\n",
      "59.005097897888774\n"
     ]
    }
   ],
   "source": [
    "print(loss[0])\n",
    "print(loss[-1])"
   ]
  },
  {
   "cell_type": "code",
   "execution_count": 235,
   "metadata": {},
   "outputs": [],
   "source": [
    "def trainSvms(X, Y):\n",
    "    svm_classifiers = {}\n",
    "    for i in range(CLASSES):\n",
    "        svm_classifiers[i] = {}\n",
    "        for j in range(i+1, CLASSES):\n",
    "            Xp, Yp = getDataPairForSVM(data[i], data[j])\n",
    "            W, b, loss = mySvm.train(Xp, Yp, learning_rate = 0.00001, maxItr = 1000)\n",
    "            svm_classifiers[i][j] = (W, b)\n",
    "            \n",
    "            plt.plot(loss)\n",
    "            plt.show()\n",
    "            \n",
    "    return svm_classifiers"
   ]
  },
  {
   "cell_type": "code",
   "execution_count": 236,
   "metadata": {},
   "outputs": [
    {
     "data": {
      "image/png": "[encoded data removed]",
      "text/plain": [
       "<Figure size 432x288 with 1 Axes>"
      ]
     },
     "metadata": {
      "needs_background": "light"
     },
     "output_type": "display_data"
    },
    {
     "data": {
      "image/png": "[encoded data removed]",
      "text/plain": [
       "<Figure size 432x288 with 1 Axes>"
      ]
     },
     "metadata": {
      "needs_background": "light"
     },
     "output_type": "display_data"
    },
    {
     "data": {
      "image/png": "[encoded data removed]",
      "text/plain": [
       "<Figure size 432x288 with 1 Axes>"
      ]
     },
     "metadata": {
      "needs_background": "light"
     },
     "output_type": "display_data"
    }
   ],
   "source": [
    "svm_classifiers = trainSvms(images, label_img)"
   ]
  },
  {
   "cell_type": "code",
   "execution_count": 237,
   "metadata": {},
   "outputs": [],
   "source": [
    "# PREDICTION"
   ]
  },
  {
   "cell_type": "code",
   "execution_count": 238,
   "metadata": {},
   "outputs": [],
   "source": [
    "def binaryPredict(x, w, b):\n",
    "    z = np.dot(x, w.T) + b\n",
    "    if z >= 0:\n",
    "        return 1\n",
    "    else:\n",
    "        return -1"
   ]
  },
  {
   "cell_type": "code",
   "execution_count": 239,
   "metadata": {},
   "outputs": [],
   "source": [
    "def predict(x):\n",
    "    count = np.zeros((CLASSES, ))\n",
    "    \n",
    "    for i in range(CLASSES):\n",
    "        for j in range(i+1, CLASSES):\n",
    "            \n",
    "            w, b = svm_classifiers[i][j]\n",
    "            z = binaryPredict(x, w, b)\n",
    "            \n",
    "            if z == 1:\n",
    "                count[j] += 1\n",
    "            else:\n",
    "                count[i] += 1\n",
    "                \n",
    "    final_prediction = np.argmax(count)\n",
    "    return final_prediction\n"
   ]
  },
  {
   "cell_type": "code",
   "execution_count": 240,
   "metadata": {},
   "outputs": [],
   "source": [
    "def accuracy(x,y):\n",
    "    \n",
    "    count = 0\n",
    "    for i in range(x.shape[0]):\n",
    "        prediction = predict(x[i])\n",
    "        if(prediction==y[i]):\n",
    "            count += 1\n",
    "            \n",
    "    return count/x.shape[0]"
   ]
  },
  {
   "cell_type": "code",
   "execution_count": 241,
   "metadata": {},
   "outputs": [
    {
     "name": "stdout",
     "output_type": "stream",
     "text": [
      "0.7467105263157895\n"
     ]
    }
   ],
   "source": [
    "print(accuracy(images,label_img))"
   ]
  },
  {
   "cell_type": "code",
   "execution_count": 242,
   "metadata": {},
   "outputs": [],
   "source": [
    "# TESTING"
   ]
  },
  {
   "cell_type": "code",
   "execution_count": 248,
   "metadata": {},
   "outputs": [],
   "source": [
    "X_test = pd.read_csv('test.csv')"
   ]
  },
  {
   "cell_type": "code",
   "execution_count": 249,
   "metadata": {},
   "outputs": [
    {
     "data": {
      "text/html": [
       "<div>\n",
       "<style scoped>\n",
       "    .dataframe tbody tr th:only-of-type {\n",
       "        vertical-align: middle;\n",
       "    }\n",
       "\n",
       "    .dataframe tbody tr th {\n",
       "        vertical-align: top;\n",
       "    }\n",
       "\n",
       "    .dataframe thead th {\n",
       "        text-align: right;\n",
       "    }\n",
       "</style>\n",
       "<table border=\"1\" class=\"dataframe\">\n",
       "  <thead>\n",
       "    <tr style=\"text-align: right;\">\n",
       "      <th></th>\n",
       "      <th>ImageId</th>\n",
       "    </tr>\n",
       "  </thead>\n",
       "  <tbody>\n",
       "    <tr>\n",
       "      <th>0</th>\n",
       "      <td>1106.jpg</td>\n",
       "    </tr>\n",
       "    <tr>\n",
       "      <th>1</th>\n",
       "      <td>2236.jpg</td>\n",
       "    </tr>\n",
       "    <tr>\n",
       "      <th>2</th>\n",
       "      <td>1131.jpg</td>\n",
       "    </tr>\n",
       "    <tr>\n",
       "      <th>3</th>\n",
       "      <td>2221.jpg</td>\n",
       "    </tr>\n",
       "    <tr>\n",
       "      <th>4</th>\n",
       "      <td>2011.jpg</td>\n",
       "    </tr>\n",
       "  </tbody>\n",
       "</table>\n",
       "</div>"
      ],
      "text/plain": [
       "    ImageId\n",
       "0  1106.jpg\n",
       "1  2236.jpg\n",
       "2  1131.jpg\n",
       "3  2221.jpg\n",
       "4  2011.jpg"
      ]
     },
     "execution_count": 249,
     "metadata": {},
     "output_type": "execute_result"
    }
   ],
   "source": [
    "X_test.head()"
   ]
  },
  {
   "cell_type": "code",
   "execution_count": 253,
   "metadata": {},
   "outputs": [
    {
     "name": "stdout",
     "output_type": "stream",
     "text": [
      "<class 'pandas.core.frame.DataFrame'>\n"
     ]
    }
   ],
   "source": [
    "print(type(X_test))"
   ]
  },
  {
   "cell_type": "code",
   "execution_count": 254,
   "metadata": {},
   "outputs": [],
   "source": [
    "X_test = X_test.values"
   ]
  },
  {
   "cell_type": "code",
   "execution_count": 255,
   "metadata": {},
   "outputs": [],
   "source": [
    "\n",
    "# pred = []\n",
    "test_images = []\n",
    "data_set = './Images_test/'\n",
    "\n",
    "for i in range(X_test.shape[0]):\n",
    "    img_path = X_test[i][0]\n",
    "    \n",
    "    img = cv2.imread(data_set + img_path)\n",
    "    img = cv2.cvtColor(img, cv2.COLOR_BGR2RGB)\n",
    "    img = cv2.resize(img, (32, 32))\n",
    "    \n",
    "    test_images.append(img)"
   ]
  },
  {
   "cell_type": "code",
   "execution_count": 256,
   "metadata": {},
   "outputs": [
    {
     "name": "stdout",
     "output_type": "stream",
     "text": [
      "(123, 12288)\n"
     ]
    }
   ],
   "source": [
    "test_images = np.array(test_images, dtype = 'float32') / 255.0\n",
    "test_images = test_images.reshape(test_images.shape[0], -1)\n",
    "print(test_images.shape)"
   ]
  },
  {
   "cell_type": "code",
   "execution_count": 257,
   "metadata": {},
   "outputs": [],
   "source": [
    "my_dict2 = {\n",
    "    0: 'Pikachu',\n",
    "    1: 'Bulbasaur',\n",
    "    2: 'Charmander'\n",
    "}"
   ]
  },
  {
   "cell_type": "code",
   "execution_count": 258,
   "metadata": {},
   "outputs": [],
   "source": [
    "pred = []\n",
    "for i in range(test_images.shape[0]):\n",
    "    p = predict(test_images[i])\n",
    "    # print(len(p))\n",
    "    pred.append(my_dict2[p])"
   ]
  },
  {
   "cell_type": "code",
   "execution_count": 259,
   "metadata": {},
   "outputs": [
    {
     "name": "stdout",
     "output_type": "stream",
     "text": [
      "123\n"
     ]
    }
   ],
   "source": [
    "print(len(pred))"
   ]
  },
  {
   "cell_type": "code",
   "execution_count": 260,
   "metadata": {},
   "outputs": [],
   "source": [
    "# print(pred)"
   ]
  },
  {
   "cell_type": "code",
   "execution_count": 261,
   "metadata": {},
   "outputs": [],
   "source": [
    "pred = np.array(pred)"
   ]
  },
  {
   "cell_type": "code",
   "execution_count": 262,
   "metadata": {},
   "outputs": [
    {
     "name": "stdout",
     "output_type": "stream",
     "text": [
      "<class 'numpy.ndarray'>\n"
     ]
    }
   ],
   "source": [
    "print(type(X_test))"
   ]
  },
  {
   "cell_type": "code",
   "execution_count": 263,
   "metadata": {},
   "outputs": [],
   "source": [
    "pred = pred.reshape((pred.shape[0], ))"
   ]
  },
  {
   "cell_type": "code",
   "execution_count": 264,
   "metadata": {},
   "outputs": [
    {
     "name": "stdout",
     "output_type": "stream",
     "text": [
      "(123,)\n"
     ]
    }
   ],
   "source": [
    "print(pred.shape)"
   ]
  },
  {
   "cell_type": "code",
   "execution_count": 265,
   "metadata": {},
   "outputs": [
    {
     "name": "stdout",
     "output_type": "stream",
     "text": [
      "(123,)\n"
     ]
    }
   ],
   "source": [
    "X_la = X_test[:, 0]\n",
    "X_la = X_la.reshape(X_test.shape[0], )\n",
    "print(X_la.shape)"
   ]
  },
  {
   "cell_type": "code",
   "execution_count": 266,
   "metadata": {},
   "outputs": [
    {
     "name": "stdout",
     "output_type": "stream",
     "text": [
      "(123, 2)\n"
     ]
    }
   ],
   "source": [
    "\n",
    "ans = np.stack((X_la, pred)).T\n",
    "print(ans.shape)"
   ]
  },
  {
   "cell_type": "code",
   "execution_count": 267,
   "metadata": {},
   "outputs": [],
   "source": [
    "df = pd.DataFrame(ans, columns = [\"ImageId\", \"NameOfPokemon\"])"
   ]
  },
  {
   "cell_type": "code",
   "execution_count": 268,
   "metadata": {},
   "outputs": [],
   "source": [
    "df.to_csv('answer.csv', index = False)"
   ]
  },
  {
   "cell_type": "code",
   "execution_count": null,
   "metadata": {},
   "outputs": [],
   "source": []
  }
 ],
 "metadata": {
  "kernelspec": {
   "display_name": "Python 3",
   "language": "python",
   "name": "python3"
  },
  "language_info": {
   "codemirror_mode": {
    "name": "ipython",
    "version": 3
   },
   "file_extension": ".py",
   "mimetype": "text/x-python",
   "name": "python",
   "nbconvert_exporter": "python",
   "pygments_lexer": "ipython3",
   "version": "3.6.9"
  }
 },
 "nbformat": 4,
 "nbformat_minor": 2
}
