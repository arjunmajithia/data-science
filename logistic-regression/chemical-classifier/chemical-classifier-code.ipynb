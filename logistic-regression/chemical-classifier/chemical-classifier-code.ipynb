{
 "cells": [
  {
   "cell_type": "code",
   "execution_count": 1,
   "metadata": {},
   "outputs": [],
   "source": [
    "import numpy as np\n",
    "import pandas as pd"
   ]
  },
  {
   "cell_type": "code",
   "execution_count": 2,
   "metadata": {},
   "outputs": [],
   "source": [
    "import matplotlib.pyplot as plt"
   ]
  },
  {
   "cell_type": "code",
   "execution_count": 3,
   "metadata": {},
   "outputs": [],
   "source": [
    "X = pd.read_csv('Logistic_X_Train.csv').values\n",
    "y = pd.read_csv('Logistic_Y_Train.csv').values"
   ]
  },
  {
   "cell_type": "code",
   "execution_count": 28,
   "metadata": {},
   "outputs": [
    {
     "name": "stdout",
     "output_type": "stream",
     "text": [
      "(3000, 3)\n",
      "(3000,)\n"
     ]
    }
   ],
   "source": [
    "print(X.shape)\n",
    "y = y.reshape((y.shape[0], ))\n",
    "print(y.shape)"
   ]
  },
  {
   "cell_type": "code",
   "execution_count": 29,
   "metadata": {},
   "outputs": [],
   "source": [
    "# logistic regression algorithm\n",
    "def hypothesis(x, theta, bias):\n",
    "    z = np.dot(x, theta) + bias\n",
    "    return sigmoid(z)\n",
    "\n",
    "def sigmoid(z):\n",
    "    return 1.0/(1.0 + np.exp(-1 * z))\n",
    "\n",
    "def error(X, y, theta, bias):\n",
    "    m = X.shape[0]\n",
    "    \n",
    "    e = 0.0\n",
    "    for i in range(m):\n",
    "        y_ = hypothesis(X[i], theta, bias)\n",
    "        e += y[i]*np.log2(y_) + (1-y[i])*np.log2(1-y_)\n",
    "        \n",
    "    return -e/m\n",
    "\n",
    "def gradient(X, y, theta, bias):\n",
    "    # no. of feature\n",
    "    n = theta.shape\n",
    "    \n",
    "    grad_w = np.zeros(n)\n",
    "    grad_b = 0.0\n",
    "    \n",
    "    m = X.shape[0]\n",
    "    \n",
    "    for i in range(m):\n",
    "        y_ = hypothesis(X[i], theta, bias)\n",
    "        grad_w += (y[i] - y_) * X[i]\n",
    "        grad_b += (y[i] - y_)\n",
    "        \n",
    "    return [grad_w/m, grad_b/m]\n",
    "\n",
    "def predict(x, theta, bias):\n",
    "    y_ = hypothesis(x, theta, bias)\n",
    "    \n",
    "    if y_ < 0.5:\n",
    "        return 0\n",
    "    else:\n",
    "        return 1\n",
    "\n",
    "def accuracy(X, y, theta, bias):\n",
    "    pred_list = []\n",
    "    \n",
    "    for i in range(y.shape[0]):\n",
    "        p = predict(X[i], theta, bias)\n",
    "        pred_list.append(p)\n",
    "    \n",
    "    pred_list = np.array(pred_list)\n",
    "    return float((pred_list == y).sum())/y.shape[0]\n",
    "    \n",
    "def gradientDescent(X, y, learning_rate = 0.1, max_steps = 1000):\n",
    "    n = X.shape[1]\n",
    "    error_list = []\n",
    "    theta = np.zeros((n, ))\n",
    "    bias = 0.0\n",
    "    \n",
    "    for i in range(max_steps):\n",
    "        e = error(X, y, theta, bias)\n",
    "        error_list.append(e)\n",
    "        \n",
    "        [grad_w, grad_b] = gradient(X, y, theta, bias)\n",
    "        theta = theta + learning_rate * grad_w\n",
    "        bias = bias + learning_rate * grad_b\n",
    "        \n",
    "        a = accuracy(X, y, theta, bias)\n",
    "        \n",
    "    return error_list, theta, bias, a"
   ]
  },
  {
   "cell_type": "code",
   "execution_count": 30,
   "metadata": {},
   "outputs": [],
   "source": [
    "# training\n",
    "error_list, theta, bias, acc = gradientDescent(X, y)"
   ]
  },
  {
   "cell_type": "code",
   "execution_count": 31,
   "metadata": {},
   "outputs": [
    {
     "data": {
      "image/png": "[encoded data removed]",
      "text/plain": [
       "<Figure size 432x288 with 1 Axes>"
      ]
     },
     "metadata": {
      "needs_background": "light"
     },
     "output_type": "display_data"
    }
   ],
   "source": [
    "plt.plot(error_list)\n",
    "plt.show()"
   ]
  },
  {
   "cell_type": "code",
   "execution_count": 32,
   "metadata": {},
   "outputs": [],
   "source": [
    "a = accuracy(X, y, theta, bias)"
   ]
  },
  {
   "cell_type": "code",
   "execution_count": 33,
   "metadata": {},
   "outputs": [
    {
     "name": "stdout",
     "output_type": "stream",
     "text": [
      "0.992\n"
     ]
    }
   ],
   "source": [
    "print(a)"
   ]
  },
  {
   "cell_type": "code",
   "execution_count": 34,
   "metadata": {},
   "outputs": [],
   "source": [
    "X_test = pd.read_csv('Logistic_X_Test.csv').values"
   ]
  },
  {
   "cell_type": "code",
   "execution_count": 35,
   "metadata": {},
   "outputs": [
    {
     "name": "stdout",
     "output_type": "stream",
     "text": [
      "(1000, 3)\n"
     ]
    }
   ],
   "source": [
    "print(X_test.shape)"
   ]
  },
  {
   "cell_type": "code",
   "execution_count": 38,
   "metadata": {},
   "outputs": [],
   "source": [
    "labels = []\n",
    "for i in range(X_test.shape[0]):\n",
    "    p = predict(X_test[i], theta, bias)\n",
    "    labels.append(p)"
   ]
  },
  {
   "cell_type": "code",
   "execution_count": 39,
   "metadata": {},
   "outputs": [
    {
     "name": "stdout",
     "output_type": "stream",
     "text": [
      "(1000,)\n"
     ]
    }
   ],
   "source": [
    "labels = np.array(labels)\n",
    "print(labels.shape)"
   ]
  },
  {
   "cell_type": "code",
   "execution_count": 40,
   "metadata": {},
   "outputs": [],
   "source": [
    "df = pd.DataFrame(data = labels, columns = ['label'])"
   ]
  },
  {
   "cell_type": "code",
   "execution_count": 41,
   "metadata": {},
   "outputs": [
    {
     "data": {
      "text/html": [
       "<div>\n",
       "<style scoped>\n",
       "    .dataframe tbody tr th:only-of-type {\n",
       "        vertical-align: middle;\n",
       "    }\n",
       "\n",
       "    .dataframe tbody tr th {\n",
       "        vertical-align: top;\n",
       "    }\n",
       "\n",
       "    .dataframe thead th {\n",
       "        text-align: right;\n",
       "    }\n",
       "</style>\n",
       "<table border=\"1\" class=\"dataframe\">\n",
       "  <thead>\n",
       "    <tr style=\"text-align: right;\">\n",
       "      <th></th>\n",
       "      <th>label</th>\n",
       "    </tr>\n",
       "  </thead>\n",
       "  <tbody>\n",
       "    <tr>\n",
       "      <th>0</th>\n",
       "      <td>1</td>\n",
       "    </tr>\n",
       "    <tr>\n",
       "      <th>1</th>\n",
       "      <td>1</td>\n",
       "    </tr>\n",
       "    <tr>\n",
       "      <th>2</th>\n",
       "      <td>0</td>\n",
       "    </tr>\n",
       "    <tr>\n",
       "      <th>3</th>\n",
       "      <td>1</td>\n",
       "    </tr>\n",
       "    <tr>\n",
       "      <th>4</th>\n",
       "      <td>1</td>\n",
       "    </tr>\n",
       "  </tbody>\n",
       "</table>\n",
       "</div>"
      ],
      "text/plain": [
       "   label\n",
       "0      1\n",
       "1      1\n",
       "2      0\n",
       "3      1\n",
       "4      1"
      ]
     },
     "execution_count": 41,
     "metadata": {},
     "output_type": "execute_result"
    }
   ],
   "source": [
    "df.head()"
   ]
  },
  {
   "cell_type": "code",
   "execution_count": 42,
   "metadata": {},
   "outputs": [],
   "source": [
    "df.to_csv('answer.csv', index = False)"
   ]
  },
  {
   "cell_type": "code",
   "execution_count": null,
   "metadata": {},
   "outputs": [],
   "source": []
  }
 ],
 "metadata": {
  "kernelspec": {
   "display_name": "Python 3",
   "language": "python",
   "name": "python3"
  },
  "language_info": {
   "codemirror_mode": {
    "name": "ipython",
    "version": 3
   },
   "file_extension": ".py",
   "mimetype": "text/x-python",
   "name": "python",
   "nbconvert_exporter": "python",
   "pygments_lexer": "ipython3",
   "version": "3.6.8"
  }
 },
 "nbformat": 4,
 "nbformat_minor": 2
}
